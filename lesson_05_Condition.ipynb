{
  "cells": [
    {
      "cell_type": "markdown",
      "metadata": {
        "id": "view-in-github",
        "colab_type": "text"
      },
      "source": [
        "<a href=\"https://colab.research.google.com/github/NHU19/python/blob/main/lesson_05_Condition.ipynb\" target=\"_parent\"><img src=\"https://colab.research.google.com/assets/colab-badge.svg\" alt=\"Open In Colab\"/></a>"
      ]
    },
    {
      "cell_type": "markdown",
      "metadata": {
        "id": "pvN6_6mHnSxa"
      },
      "source": [
        "### 조건문(condition)\n",
        "    특정 조건에 따라 코드를 실행하고자 할 때 사용\n",
        "    if, else, elif"
      ]
    },
    {
      "cell_type": "markdown",
      "metadata": {
        "id": "ojfRpbgcnSxe"
      },
      "source": [
        "#### if\n",
        "```python\n",
        "if 조건문 :\n",
        "    조건이 성립할 때 실행될 구문\n",
        "```\n",
        "    조건문에 boolian 타입 외의 데이터 타입이 오면 boolian 타입으로 형변환되어 판단"
      ]
    },
    {
      "cell_type": "code",
      "execution_count": 2,
      "metadata": {
        "id": "yTHfpG26nSxf",
        "colab": {
          "base_uri": "https://localhost:8080/"
        },
        "outputId": "de6966aa-6bc0-48e3-b9d3-6eeac0a0b63e"
      },
      "outputs": [
        {
          "output_type": "stream",
          "name": "stdout",
          "text": [
            "It's true\n",
            "Done !\n"
          ]
        }
      ],
      "source": [
        "if True:\n",
        "    print(\"It's true\")\n",
        "print(\"Done !\")"
      ]
    },
    {
      "cell_type": "code",
      "execution_count": 5,
      "metadata": {
        "id": "OuuUqdmcnSxf",
        "colab": {
          "base_uri": "https://localhost:8080/"
        },
        "outputId": "346dd0a1-0a81-4e38-d093-4457c4a66638"
      },
      "outputs": [
        {
          "output_type": "stream",
          "name": "stdout",
          "text": [
            "Done !\n"
          ]
        }
      ],
      "source": [
        "if False:\n",
        "    printf(\"It's false !\") # False일 때 조건문 실행 안 됨\n",
        "print(\"Done !\")"
      ]
    },
    {
      "cell_type": "markdown",
      "metadata": {
        "id": "YhAIgIKfnSxf"
      },
      "source": [
        "    int : 0을 제외한 나머지 숫자는 모두 True\n",
        "    float : 0.0을 제외한 나머지 숫자는 모두 True\n",
        "    str : \"\"을 제외한 나머지는 모두 True\n",
        "    list, tuple, dict : [], (), {}을 제외한 나머지는 모두 True"
      ]
    },
    {
      "cell_type": "markdown",
      "metadata": {
        "id": "nyXFiMaqnSxg"
      },
      "source": [
        "#### if else\n",
        "```python\n",
        "if 조건문:\n",
        "    조건문이 성립할 때 실행되는 구문\n",
        "else:\n",
        "    조건문 외의 경우가 성립할 때 실행되는 구문\n",
        "```"
      ]
    },
    {
      "cell_type": "code",
      "execution_count": 6,
      "metadata": {
        "id": "S1XWQ5q2nSxg",
        "colab": {
          "base_uri": "https://localhost:8080/"
        },
        "outputId": "463c1355-3972-4be1-fccb-e538e6a085ef"
      },
      "outputs": [
        {
          "output_type": "stream",
          "name": "stdout",
          "text": [
            "It's true\n"
          ]
        }
      ],
      "source": [
        "if False:\n",
        "    print(\"It's false\")\n",
        "else:\n",
        "    print(\"It's true\")"
      ]
    },
    {
      "cell_type": "code",
      "execution_count": 8,
      "metadata": {
        "id": "pavOaJtUnSxh",
        "colab": {
          "base_uri": "https://localhost:8080/"
        },
        "outputId": "4c8f1efe-3a4e-43a2-cec8-973af29ba5ce"
      },
      "outputs": [
        {
          "output_type": "stream",
          "name": "stdout",
          "text": [
            "4 짝수\n"
          ]
        }
      ],
      "source": [
        "import random\n",
        "num = random.randint(1, 11)\n",
        "if num % 2:\n",
        "    print(num, \"홀수\")\n",
        "else:\n",
        "    print(num, \"짝수\")"
      ]
    },
    {
      "cell_type": "markdown",
      "metadata": {
        "id": "pevqr7cPnSxh"
      },
      "source": [
        "#### if elif else\n",
        "```python\n",
        "if 조건문1:\n",
        "    실행문1\n",
        "elif 조건문2:\n",
        "    실행문2\n",
        "else:\n",
        "    실행문3\n",
        "```\n",
        "    if 조건문부터 순차적으로 확인한 후 True의 경우일 때 해당 조건의 실행문이 실행된다"
      ]
    },
    {
      "cell_type": "code",
      "execution_count": 14,
      "metadata": {
        "id": "L7Lrncm1nSxi",
        "colab": {
          "base_uri": "https://localhost:8080/"
        },
        "outputId": "b8d1cc4d-11ed-45af-9692-e4b8d841494f"
      },
      "outputs": [
        {
          "output_type": "stream",
          "name": "stdout",
          "text": [
            "금액을 입력하시오: 7000\n",
            "치킨마요 삼각김밥\n"
          ]
        }
      ],
      "source": [
        "wallet = int(input(\"금액을 입력하시오: \")) # int는 형변환, input은 데이터를 받는 경우, (string 타입)\n",
        "\n",
        "if wallet >= 30000:\n",
        "    print(\"허니콤보\")\n",
        "elif wallet >= 10000:\n",
        "    print(\"치킨마요\")\n",
        "elif wallet >= 5000:\n",
        "    print(\"치킨마요 삼각김밥\")\n",
        "else:\n",
        "    print(\"굶기\")"
      ]
    },
    {
      "cell_type": "markdown",
      "metadata": {
        "id": "mzmN1DTqnSxi"
      },
      "source": [
        "#### 삼항연산자\n",
        "    한줄의 코드로 if, else를 표현할 수 있는 방법\n",
        "```python\n",
        "실행문1 if 조건문1 else 실행문2\n",
        "```"
      ]
    },
    {
      "cell_type": "code",
      "execution_count": 16,
      "metadata": {
        "id": "TgkCJTh6nSxi",
        "colab": {
          "base_uri": "https://localhost:8080/"
        },
        "outputId": "9e8d26b1-eea9-4ac6-b69b-a464965a9f01"
      },
      "outputs": [
        {
          "output_type": "stream",
          "name": "stdout",
          "text": [
            "4 짝수\n"
          ]
        }
      ],
      "source": [
        "import random\n",
        "num = random.randint(1, 10)\n",
        "print(num,\"홀수\") if num % 2 else print(num, \"짝수\")"
      ]
    },
    {
      "cell_type": "code",
      "execution_count": 26,
      "metadata": {
        "id": "QdLoVh10nSxj",
        "colab": {
          "base_uri": "https://localhost:8080/"
        },
        "outputId": "5fdc2a02-45be-43dd-8557-6428ed9e2d96"
      },
      "outputs": [
        {
          "output_type": "stream",
          "name": "stdout",
          "text": [
            "짝수\n"
          ]
        }
      ],
      "source": [
        "if num % 2:\n",
        "    print(\"홀수\")\n",
        "else:\n",
        "    print(\"짝수\")"
      ]
    }
  ],
  "metadata": {
    "hide_input": false,
    "kernelspec": {
      "display_name": "Python 3",
      "language": "python",
      "name": "python3"
    },
    "language_info": {
      "codemirror_mode": {
        "name": "ipython",
        "version": 3
      },
      "file_extension": ".py",
      "mimetype": "text/x-python",
      "name": "python",
      "nbconvert_exporter": "python",
      "pygments_lexer": "ipython3",
      "version": "3.8.5"
    },
    "toc": {
      "base_numbering": 1,
      "nav_menu": {},
      "number_sections": true,
      "sideBar": true,
      "skip_h1_title": false,
      "title_cell": "Table of Contents",
      "title_sidebar": "Contents",
      "toc_cell": false,
      "toc_position": {},
      "toc_section_display": true,
      "toc_window_display": false
    },
    "varInspector": {
      "cols": {
        "lenName": 16,
        "lenType": 16,
        "lenVar": 40
      },
      "kernels_config": {
        "python": {
          "delete_cmd_postfix": "",
          "delete_cmd_prefix": "del ",
          "library": "var_list.py",
          "varRefreshCmd": "print(var_dic_list())"
        },
        "r": {
          "delete_cmd_postfix": ") ",
          "delete_cmd_prefix": "rm(",
          "library": "var_list.r",
          "varRefreshCmd": "cat(var_dic_list()) "
        }
      },
      "types_to_exclude": [
        "module",
        "function",
        "builtin_function_or_method",
        "instance",
        "_Feature"
      ],
      "window_display": false
    },
    "colab": {
      "name": "lesson 05. Condition.ipynb",
      "provenance": [],
      "collapsed_sections": [],
      "include_colab_link": true
    }
  },
  "nbformat": 4,
  "nbformat_minor": 0
}
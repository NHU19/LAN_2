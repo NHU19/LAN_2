{
  "cells": [
    {
      "cell_type": "markdown",
      "metadata": {
        "id": "view-in-github",
        "colab_type": "text"
      },
      "source": [
        "<a href=\"https://colab.research.google.com/github/NHU19/python/blob/main/lesson_04_operator(%EC%97%B0%EC%82%B0%EC%9E%90).ipynb\" target=\"_parent\"><img src=\"https://colab.research.google.com/assets/colab-badge.svg\" alt=\"Open In Colab\"/></a>"
      ]
    },
    {
      "cell_type": "markdown",
      "metadata": {
        "id": "EdUFrdbbl-wc"
      },
      "source": [
        "### 연산자\n",
        "    - 산술\n",
        "    - 할당\n",
        "    - 비교\n",
        "    - 논리\n",
        "    - 멤버"
      ]
    },
    {
      "cell_type": "markdown",
      "metadata": {
        "id": "Es33FJOIl-wh"
      },
      "source": [
        "#### 산술\n",
        "    +, -, *, /, //, %, **"
      ]
    },
    {
      "cell_type": "code",
      "execution_count": 1,
      "metadata": {
        "id": "Obwwmae4l-wi",
        "colab": {
          "base_uri": "https://localhost:8080/"
        },
        "outputId": "1be6e7da-e1d6-4854-ba08-7743058a7afc"
      },
      "outputs": [
        {
          "output_type": "execute_result",
          "data": {
            "text/plain": [
              "6.0"
            ]
          },
          "metadata": {},
          "execution_count": 1
        }
      ],
      "source": [
        "8 - 4 * 2 / 2 ** 2"
      ]
    },
    {
      "cell_type": "markdown",
      "metadata": {
        "id": "N9rtuBxCl-wj"
      },
      "source": [
        "#### 할당"
      ]
    },
    {
      "cell_type": "code",
      "execution_count": 2,
      "metadata": {
        "id": "PxJ4rOayl-wj",
        "colab": {
          "base_uri": "https://localhost:8080/"
        },
        "outputId": "d66bec68-b268-446d-fdc1-76cf0c4360d0"
      },
      "outputs": [
        {
          "output_type": "execute_result",
          "data": {
            "text/plain": [
              "110"
            ]
          },
          "metadata": {},
          "execution_count": 2
        }
      ],
      "source": [
        "a = 100\n",
        "a *= 1.1\n",
        "int(a)"
      ]
    },
    {
      "cell_type": "code",
      "execution_count": 4,
      "metadata": {
        "id": "pGOoz9kUl-wk",
        "colab": {
          "base_uri": "https://localhost:8080/"
        },
        "outputId": "05e8577a-ffa3-4839-dfe7-a46f811538d4"
      },
      "outputs": [
        {
          "output_type": "stream",
          "name": "stdout",
          "text": [
            "55\n"
          ]
        }
      ],
      "source": [
        "b = 0\n",
        "for i in range(1, 11):\n",
        "    b += i\n",
        "print(b)"
      ]
    },
    {
      "cell_type": "markdown",
      "metadata": {
        "id": "WhGoOc1zl-wl"
      },
      "source": [
        "#### 비교\n",
        "    >, <, >=, <=, ==, !=\n",
        "    결과값이 True, False"
      ]
    },
    {
      "cell_type": "code",
      "execution_count": 8,
      "metadata": {
        "id": "c9IvDY9nl-wl",
        "colab": {
          "base_uri": "https://localhost:8080/"
        },
        "outputId": "d1b4a15c-b6d2-452c-88f4-93801c8b8213"
      },
      "outputs": [
        {
          "output_type": "execute_result",
          "data": {
            "text/plain": [
              "(False, True)"
            ]
          },
          "metadata": {},
          "execution_count": 8
        }
      ],
      "source": [
        "c = 5\n",
        "d = 8\n",
        "c == d, c <= d"
      ]
    },
    {
      "cell_type": "markdown",
      "metadata": {
        "id": "7GPG_Goul-wm"
      },
      "source": [
        "#### 논리 \n",
        "    and, or, not\n",
        "    True, False로 나타내는 연산\n",
        "    연산은 앞에서부터 순서대로 진행"
      ]
    },
    {
      "cell_type": "code",
      "execution_count": 12,
      "metadata": {
        "id": "n3TPm0PEl-wm",
        "colab": {
          "base_uri": "https://localhost:8080/"
        },
        "outputId": "5734bcff-b58c-48d1-de3c-96c915913f38"
      },
      "outputs": [
        {
          "output_type": "stream",
          "name": "stdout",
          "text": [
            "False True True\n",
            "False\n"
          ]
        }
      ],
      "source": [
        "print(True and False, True and True, True or False) \n",
        "print(False and False)"
      ]
    },
    {
      "cell_type": "markdown",
      "metadata": {
        "id": "KZlXYwOJl-wn"
      },
      "source": [
        "#### 멤버\n",
        "    in, not in\n",
        "    특정 데이터가 있는지 확인할 때 사용"
      ]
    },
    {
      "cell_type": "code",
      "execution_count": 15,
      "metadata": {
        "id": "tNj-_A6el-wn",
        "colab": {
          "base_uri": "https://localhost:8080/"
        },
        "outputId": "8475acd3-8e36-4c4b-ccd4-20672a56f4e0"
      },
      "outputs": [
        {
          "output_type": "execute_result",
          "data": {
            "text/plain": [
              "(True, False)"
            ]
          },
          "metadata": {},
          "execution_count": 15
        }
      ],
      "source": [
        "ls = ['python', 'is', 'easy?']\n",
        "'python' in ls, 'hard' in ls"
      ]
    }
  ],
  "metadata": {
    "kernelspec": {
      "display_name": "Python 3",
      "language": "python",
      "name": "python3"
    },
    "language_info": {
      "codemirror_mode": {
        "name": "ipython",
        "version": 3
      },
      "file_extension": ".py",
      "mimetype": "text/x-python",
      "name": "python",
      "nbconvert_exporter": "python",
      "pygments_lexer": "ipython3",
      "version": "3.8.5"
    },
    "toc": {
      "base_numbering": 1,
      "nav_menu": {},
      "number_sections": true,
      "sideBar": true,
      "skip_h1_title": false,
      "title_cell": "Table of Contents",
      "title_sidebar": "Contents",
      "toc_cell": false,
      "toc_position": {},
      "toc_section_display": true,
      "toc_window_display": false
    },
    "colab": {
      "name": "lesson 04. operator(연산자).ipynb",
      "provenance": [],
      "collapsed_sections": [],
      "include_colab_link": true
    }
  },
  "nbformat": 4,
  "nbformat_minor": 0
}
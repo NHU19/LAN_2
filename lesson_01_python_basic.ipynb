{
  "cells": [
    {
      "cell_type": "markdown",
      "metadata": {
        "id": "view-in-github",
        "colab_type": "text"
      },
      "source": [
        "<a href=\"https://colab.research.google.com/github/NHU19/python/blob/main/lesson_01_python_basic.ipynb\" target=\"_parent\"><img src=\"https://colab.research.google.com/assets/colab-badge.svg\" alt=\"Open In Colab\"/></a>"
      ]
    },
    {
      "cell_type": "markdown",
      "metadata": {
        "id": "5Kd-MsPBL0Nq"
      },
      "source": [
        "## 환경구성\n",
        "    Anaconda 환경\n",
        "    jupyter notebook"
      ]
    },
    {
      "cell_type": "markdown",
      "metadata": {
        "id": "AndhfNdML0Nt"
      },
      "source": [
        "### Jupyter notebook \n",
        "    mode\n",
        "        - 명령모드(esc)\n",
        "        - 편집모드(셀 선택 후 enter)"
      ]
    },
    {
      "cell_type": "markdown",
      "metadata": {
        "id": "gCYSr_5zL0Nu"
      },
      "source": [
        "    Style\n",
        "        - markdown\n",
        "        - code"
      ]
    },
    {
      "cell_type": "markdown",
      "metadata": {
        "id": "LzV84uqdL0Nv"
      },
      "source": [
        ""
      ]
    },
    {
      "cell_type": "markdown",
      "metadata": {
        "id": "-l5TaCr2L0Nv"
      },
      "source": [
        "이곳에는 노트를 작성하실 수 있습니다\n",
        "\n",
        "    - 1순위\n",
        "        - 2순위\n",
        "            - 3순위"
      ]
    },
    {
      "cell_type": "markdown",
      "metadata": {
        "id": "TBuvkF90L0Nw"
      },
      "source": [
        "    \n",
        "    단축키\n",
        "        - shift+enter : 아래 셀로 내려가면서 실행\n",
        "        - ctrl+enter : 현재 셀에 머무르면서 실행      \n",
        "        - dd(명령모드) : 셀 삭제\n",
        "        - a : 현재 선택된 셀 위에 새로운 셀 생성\n",
        "        - b : 현재 선택된 셀 아래에 새로운 셀 생성\n",
        "        - spacebar : 현재 화면을 위로 올림"
      ]
    },
    {
      "cell_type": "code",
      "execution_count": null,
      "metadata": {
        "colab": {
          "base_uri": "https://localhost:8080/"
        },
        "id": "sueML5mcL0Nx",
        "outputId": "821fd829-c68d-41b5-b71b-a98d440f3816"
      },
      "outputs": [
        {
          "output_type": "stream",
          "name": "stdout",
          "text": [
            "python\n"
          ]
        }
      ],
      "source": [
        "print(\"python\")"
      ]
    },
    {
      "cell_type": "markdown",
      "metadata": {
        "id": "S-SLupdvL0Ny"
      },
      "source": [
        "#### magic command\n",
        "    - % : 한 줄의 magic command를 동작\n",
        "    - %% : 셀 단위의 magic command를 동작\n",
        "    - 주요 magic command\n",
        "        %pwd : 현재 jupyter notebook 파일의 경로\n",
        "        %ls : 현재 디렉토리의 파일 리스트 출력\n",
        "        %whos : 현재 선언된 변수들을 출력\n",
        "        %reset : 현재 선언된 변수들을 전부 삭제"
      ]
    },
    {
      "cell_type": "code",
      "execution_count": null,
      "metadata": {
        "colab": {
          "base_uri": "https://localhost:8080/",
          "height": 35
        },
        "id": "jEk2L1d5L0Nz",
        "outputId": "63bf8498-a27b-48b7-be30-709063db93d2"
      },
      "outputs": [
        {
          "output_type": "execute_result",
          "data": {
            "text/plain": [
              "'/content'"
            ],
            "application/vnd.google.colaboratory.intrinsic+json": {
              "type": "string"
            }
          },
          "metadata": {},
          "execution_count": 5
        }
      ],
      "source": [
        "%pwd"
      ]
    },
    {
      "cell_type": "markdown",
      "metadata": {
        "id": "ba5uxhrEL0Nz"
      },
      "source": [
        "#### shell command\n",
        "    - jupyter notebook을 실행한 shell 환경의 명령을 사용\n",
        "    - 명령어 앞에 !를 붙여서 실행    "
      ]
    },
    {
      "cell_type": "code",
      "execution_count": null,
      "metadata": {
        "colab": {
          "base_uri": "https://localhost:8080/"
        },
        "id": "Q8Qx7sOdL0Nz",
        "outputId": "512a6172-f734-484b-904a-792c6047d38d"
      },
      "outputs": [
        {
          "output_type": "stream",
          "name": "stdout",
          "text": [
            "Looking in indexes: https://pypi.org/simple, https://us-python.pkg.dev/colab-wheels/public/simple/\n",
            "Requirement already satisfied: numpy in /usr/local/lib/python3.7/dist-packages (1.21.6)\n"
          ]
        }
      ],
      "source": [
        "!pip install numpy"
      ]
    },
    {
      "cell_type": "markdown",
      "metadata": {
        "id": "ku4RY_HtL0Nz"
      },
      "source": [
        "### 기본 문법\n",
        "    - 변수 선언, 식별자, 자료형, 형변환, 연산자"
      ]
    },
    {
      "cell_type": "markdown",
      "metadata": {
        "id": "sNRp2Og5L0Nz"
      },
      "source": [
        "#### 주석과 출력\n",
        "    - 주석 : 작성한 문장 맨 앞에 #을 붙이면 주석처리\n",
        "    - 출력 : 셀의 마지막 문장 하나만 결과로 출력\n",
        "            여러 결과나 코드 중간 변수 값을 출력하고 싶을때 print(출력물)로 작성"
      ]
    },
    {
      "cell_type": "code",
      "execution_count": null,
      "metadata": {
        "id": "dh56s7yhL0N0"
      },
      "outputs": [],
      "source": [
        "# 여기는 코드의 영역이 아닙니다\n",
        "# python\n",
        "# easyup\n",
        "# easy"
      ]
    },
    {
      "cell_type": "code",
      "execution_count": null,
      "metadata": {
        "colab": {
          "base_uri": "https://localhost:8080/"
        },
        "id": "7vItQtTZL0N0",
        "outputId": "173a9d16-c7f6-4ed9-fd7e-e95d25ab44fc"
      },
      "outputs": [
        {
          "output_type": "stream",
          "name": "stdout",
          "text": [
            "출력 예제 입니다\n"
          ]
        }
      ],
      "source": [
        "print(\"출력 예제 입니다\")"
      ]
    },
    {
      "cell_type": "code",
      "execution_count": null,
      "metadata": {
        "colab": {
          "base_uri": "https://localhost:8080/"
        },
        "id": "FGuWZU6GL0N0",
        "outputId": "1e7b7b4c-8360-488d-c81e-2ffa5d427978"
      },
      "outputs": [
        {
          "output_type": "execute_result",
          "data": {
            "text/plain": [
              "30"
            ]
          },
          "metadata": {},
          "execution_count": 9
        }
      ],
      "source": [
        "a = 10\n",
        "b = 20\n",
        "# print(a+b)\n",
        "a + b"
      ]
    },
    {
      "cell_type": "code",
      "execution_count": null,
      "metadata": {
        "colab": {
          "base_uri": "https://localhost:8080/",
          "height": 35
        },
        "id": "Vcgzhg5ZL0N0",
        "outputId": "8bda6538-f0d8-4919-c5f6-265091e4bdaf"
      },
      "outputs": [
        {
          "output_type": "execute_result",
          "data": {
            "text/plain": [
              "'이 안에 설명을 쓰시면 됩니다.'"
            ],
            "application/vnd.google.colaboratory.intrinsic+json": {
              "type": "string"
            }
          },
          "metadata": {},
          "execution_count": 11
        }
      ],
      "source": [
        "\"\"\"이 안에 설명을 쓰시면 됩니다.\"\"\""
      ]
    },
    {
      "cell_type": "code",
      "execution_count": null,
      "metadata": {
        "colab": {
          "base_uri": "https://localhost:8080/"
        },
        "id": "exKE-21mL0N0",
        "outputId": "7346b5e3-0077-46ad-9c06-bf2cab37ae38"
      },
      "outputs": [
        {
          "output_type": "stream",
          "name": "stdout",
          "text": [
            "1\n",
            "2\n",
            "3\n",
            "4\n",
            "5\n",
            "6\n",
            "7\n",
            "8\n",
            "9\n",
            "10\n"
          ]
        }
      ],
      "source": [
        "for i in range(1, 11):\n",
        "    \"\"\"반복문 작성\"\"\"\n",
        "    print(i)"
      ]
    },
    {
      "cell_type": "markdown",
      "metadata": {
        "id": "i0Vge7QeL0N1"
      },
      "source": [
        "    - docstring : 함수의 사용법을 설명 (단축키: shift+tab)\n",
        "    - 자동완성 : 코드의 일부분만 작성하고 뒷부분을 자동으로 채워주는 기능 (단축키: tab)"
      ]
    },
    {
      "cell_type": "code",
      "execution_count": null,
      "metadata": {
        "id": "crXKEd4IL0N1"
      },
      "outputs": [],
      "source": [
        "import random"
      ]
    },
    {
      "cell_type": "code",
      "execution_count": null,
      "metadata": {
        "colab": {
          "base_uri": "https://localhost:8080/"
        },
        "id": "zDZIA2hvL0N1",
        "outputId": "2d4a9969-d4fb-43bd-d969-99596c6fbd87"
      },
      "outputs": [
        {
          "output_type": "execute_result",
          "data": {
            "text/plain": [
              "(<bound method Random.randint of <random.Random object at 0x26e4120>>,\n",
              " <function Random.random>)"
            ]
          },
          "metadata": {},
          "execution_count": 12
        }
      ],
      "source": [
        "random.randint, random.random"
      ]
    },
    {
      "cell_type": "markdown",
      "metadata": {
        "id": "rId32NSKL0N1"
      },
      "source": [
        "#### 변수 선언\n",
        "    RAM 저장 공간에 값을 할당하는 행위"
      ]
    },
    {
      "cell_type": "code",
      "execution_count": null,
      "metadata": {
        "colab": {
          "base_uri": "https://localhost:8080/"
        },
        "id": "ML0cyxJTL0N1",
        "outputId": "ffb4f50a-ea57-4dfa-ea1a-4ed833a9edd7"
      },
      "outputs": [
        {
          "output_type": "execute_result",
          "data": {
            "text/plain": [
              "30"
            ]
          },
          "metadata": {},
          "execution_count": 13
        }
      ],
      "source": [
        "a = 10\n",
        "b = 20\n",
        "c = a+b\n",
        "c"
      ]
    },
    {
      "cell_type": "code",
      "execution_count": null,
      "metadata": {
        "colab": {
          "base_uri": "https://localhost:8080/"
        },
        "id": "fxfmXdq1L0N1",
        "outputId": "fa1b7c6d-c5de-429a-93b9-4a8261d82e04"
      },
      "outputs": [
        {
          "output_type": "execute_result",
          "data": {
            "text/plain": [
              "(40, 50, 60)"
            ]
          },
          "metadata": {},
          "execution_count": 14
        }
      ],
      "source": [
        "d, e, f = 40, 50, 60\n",
        "d, e, f"
      ]
    },
    {
      "cell_type": "code",
      "execution_count": null,
      "metadata": {
        "colab": {
          "base_uri": "https://localhost:8080/"
        },
        "id": "-n30fkojL0N2",
        "outputId": "134fa82c-d9fd-4e66-8654-2381d3cef5e0"
      },
      "outputs": [
        {
          "output_type": "execute_result",
          "data": {
            "text/plain": [
              "(70, 70)"
            ]
          },
          "metadata": {},
          "execution_count": 15
        }
      ],
      "source": [
        "g = h = 70\n",
        "g, h"
      ]
    },
    {
      "cell_type": "markdown",
      "metadata": {
        "id": "ru7FSYJWL0N2"
      },
      "source": [
        "#### 식별자\n",
        "    - 변수, 함수, 클래스, 모듈 등의 이름\n",
        "    - 규칙\n",
        "        - 소문자, 대문자, 숫자, _ (low dash / under_score)\n",
        "        - 가장 앞에 숫자 사용 불가\n",
        "        - 예약어 사용 불가 (def, class, int, ...) : 이미 python에서 문법적으로 정의되어 있는 식별자\n",
        "        - Convention\n",
        "            - snake_case : 변수, 함수\n",
        "            - CamelCase : class"
      ]
    },
    {
      "cell_type": "code",
      "execution_count": null,
      "metadata": {
        "colab": {
          "base_uri": "https://localhost:8080/"
        },
        "id": "BOZ_d8cOL0N2",
        "outputId": "d1f7f7ab-b84e-4dab-f1a9-b0b540f4d83e"
      },
      "outputs": [
        {
          "output_type": "stream",
          "name": "stdout",
          "text": [
            "['False', 'None', 'True', 'and', 'as', 'assert', 'async', 'await', 'break', 'class', 'continue', 'def', 'del', 'elif', 'else', 'except', 'finally', 'for', 'from', 'global', 'if', 'import', 'in', 'is', 'lambda', 'nonlocal', 'not', 'or', 'pass', 'raise', 'return', 'try', 'while', 'with', 'yield']\n"
          ]
        }
      ],
      "source": [
        "import keyword\n",
        "print(keyword.kwlist)"
      ]
    },
    {
      "cell_type": "markdown",
      "metadata": {
        "id": "aTnWyf_TL0N2"
      },
      "source": [
        "#### 데이터 타입\n",
        "    - RAM 저장 공간을 효율적으로 사용하기 위해서 저장 공간의 타입 설정\n",
        "    - 동적 타이핑\n",
        "        - 변수 선언 시 저장되는 값에 따라서 자동으로 타입이 설정"
      ]
    },
    {
      "cell_type": "code",
      "execution_count": 18,
      "metadata": {
        "id": "XfZC8YBSL0N2",
        "outputId": "736053c5-88ab-4c87-d427-7cd462845fcc",
        "colab": {
          "base_uri": "https://localhost:8080/"
        }
      },
      "outputs": [
        {
          "output_type": "stream",
          "name": "stdout",
          "text": [
            "Variable   Type      Data/Info\n",
            "------------------------------\n",
            "a          int       10\n",
            "b          int       20\n",
            "c          int       30\n",
            "d          int       40\n",
            "e          int       50\n",
            "f          int       60\n",
            "g          int       70\n",
            "h          int       70\n",
            "i          int       10\n",
            "keyword    module    <module 'keyword' from '/<...>ib/python3.7/keyword.py'>\n",
            "random     module    <module 'random' from '/u<...>lib/python3.7/random.py'>\n"
          ]
        }
      ],
      "source": [
        "%whos"
      ]
    },
    {
      "cell_type": "code",
      "execution_count": 19,
      "metadata": {
        "id": "0rlukFIwL0N3",
        "outputId": "5b9ba60d-b8ab-4daf-ad30-b02666e2a96f",
        "colab": {
          "base_uri": "https://localhost:8080/"
        }
      },
      "outputs": [
        {
          "output_type": "stream",
          "name": "stdout",
          "text": [
            "Once deleted, variables cannot be recovered. Proceed (y/[n])? n\n",
            "Nothing done.\n"
          ]
        }
      ],
      "source": [
        "%reset"
      ]
    },
    {
      "cell_type": "code",
      "execution_count": 20,
      "metadata": {
        "id": "TCcvIHeeL0N3",
        "outputId": "bfaeca61-a8cb-4b0f-d751-c81126a0d690",
        "colab": {
          "base_uri": "https://localhost:8080/"
        }
      },
      "outputs": [
        {
          "output_type": "stream",
          "name": "stdout",
          "text": [
            "Variable   Type      Data/Info\n",
            "------------------------------\n",
            "a          int       10\n",
            "b          int       20\n",
            "c          int       30\n",
            "d          int       40\n",
            "e          int       50\n",
            "f          int       60\n",
            "g          int       70\n",
            "h          int       70\n",
            "i          int       10\n",
            "keyword    module    <module 'keyword' from '/<...>ib/python3.7/keyword.py'>\n",
            "random     module    <module 'random' from '/u<...>lib/python3.7/random.py'>\n"
          ]
        }
      ],
      "source": [
        "%whos"
      ]
    },
    {
      "cell_type": "code",
      "execution_count": 21,
      "metadata": {
        "id": "IDECuVRcL0N3",
        "outputId": "04ad1f19-d339-4205-99c7-9434363ea383",
        "colab": {
          "base_uri": "https://localhost:8080/"
        }
      },
      "outputs": [
        {
          "output_type": "stream",
          "name": "stdout",
          "text": [
            "The Zen of Python, by Tim Peters\n",
            "\n",
            "Beautiful is better than ugly.\n",
            "Explicit is better than implicit.\n",
            "Simple is better than complex.\n",
            "Complex is better than complicated.\n",
            "Flat is better than nested.\n",
            "Sparse is better than dense.\n",
            "Readability counts.\n",
            "Special cases aren't special enough to break the rules.\n",
            "Although practicality beats purity.\n",
            "Errors should never pass silently.\n",
            "Unless explicitly silenced.\n",
            "In the face of ambiguity, refuse the temptation to guess.\n",
            "There should be one-- and preferably only one --obvious way to do it.\n",
            "Although that way may not be obvious at first unless you're Dutch.\n",
            "Now is better than never.\n",
            "Although never is often better than *right* now.\n",
            "If the implementation is hard to explain, it's a bad idea.\n",
            "If the implementation is easy to explain, it may be a good idea.\n",
            "Namespaces are one honking great idea -- let's do more of those!\n"
          ]
        }
      ],
      "source": [
        "import this"
      ]
    }
  ],
  "metadata": {
    "hide_input": false,
    "kernelspec": {
      "display_name": "Python 3",
      "language": "python",
      "name": "python3"
    },
    "language_info": {
      "codemirror_mode": {
        "name": "ipython",
        "version": 3
      },
      "file_extension": ".py",
      "mimetype": "text/x-python",
      "name": "python",
      "nbconvert_exporter": "python",
      "pygments_lexer": "ipython3",
      "version": "3.8.5"
    },
    "toc": {
      "base_numbering": 1,
      "nav_menu": {},
      "number_sections": true,
      "sideBar": true,
      "skip_h1_title": false,
      "title_cell": "Table of Contents",
      "title_sidebar": "Contents",
      "toc_cell": false,
      "toc_position": {},
      "toc_section_display": true,
      "toc_window_display": false
    },
    "varInspector": {
      "cols": {
        "lenName": 16,
        "lenType": 16,
        "lenVar": 40
      },
      "kernels_config": {
        "python": {
          "delete_cmd_postfix": "",
          "delete_cmd_prefix": "del ",
          "library": "var_list.py",
          "varRefreshCmd": "print(var_dic_list())"
        },
        "r": {
          "delete_cmd_postfix": ") ",
          "delete_cmd_prefix": "rm(",
          "library": "var_list.r",
          "varRefreshCmd": "cat(var_dic_list()) "
        }
      },
      "types_to_exclude": [
        "module",
        "function",
        "builtin_function_or_method",
        "instance",
        "_Feature"
      ],
      "window_display": false
    },
    "colab": {
      "name": "lesson 01. python basic.ipynb",
      "provenance": [],
      "include_colab_link": true
    }
  },
  "nbformat": 4,
  "nbformat_minor": 0
}
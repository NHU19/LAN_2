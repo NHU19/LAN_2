{
  "nbformat": 4,
  "nbformat_minor": 0,
  "metadata": {
    "colab": {
      "name": "Assignment 02.ipynb",
      "provenance": [],
      "collapsed_sections": [],
      "include_colab_link": true
    },
    "kernelspec": {
      "name": "python3",
      "display_name": "Python 3"
    },
    "language_info": {
      "name": "python"
    }
  },
  "cells": [
    {
      "cell_type": "markdown",
      "metadata": {
        "id": "view-in-github",
        "colab_type": "text"
      },
      "source": [
        "<a href=\"https://colab.research.google.com/github/NHU19/python/blob/main/Assignment_02.ipynb\" target=\"_parent\"><img src=\"https://colab.research.google.com/assets/colab-badge.svg\" alt=\"Open In Colab\"/></a>"
      ]
    },
    {
      "cell_type": "code",
      "execution_count": 1,
      "metadata": {
        "colab": {
          "base_uri": "https://localhost:8080/"
        },
        "id": "N9YUsOry9nD0",
        "outputId": "babf49e1-3b3a-4bab-e364-f8ef31e74fe2"
      },
      "outputs": [
        {
          "output_type": "stream",
          "name": "stdout",
          "text": [
            "김밥의 가격은? 5000\n"
          ]
        },
        {
          "output_type": "execute_result",
          "data": {
            "text/plain": [
              "dict_values([5000, 3000, 2000])"
            ]
          },
          "metadata": {},
          "execution_count": 1
        }
      ],
      "source": [
        "# 사전의 구조와 이해\n",
        "\n",
        "price = {'김밥': 5000, '어묵':3000, '떡볶이':2000}\n",
        "say = '김밥의 가격은?'\n",
        "print(say,price.get('김밥')) \n",
        "price.values()\n",
        "\n",
        "# blank"
      ]
    },
    {
      "cell_type": "code",
      "source": [
        "# 리스트의 슬라이싱을 사용하여 아래를 출력하세요\n",
        "\n",
        "tp = [1,2,3,4,5,6,7]\n",
        "\n",
        "print(tp[0])\n",
        "print(tp[:3])\n",
        "print(tp[3:])\n",
        "print(tp[-1])\n",
        "print(tp[::-1])\n"
      ],
      "metadata": {
        "colab": {
          "base_uri": "https://localhost:8080/"
        },
        "id": "lQCEERSl-Wba",
        "outputId": "df742174-654a-43e0-9199-5b49672c310f"
      },
      "execution_count": 2,
      "outputs": [
        {
          "output_type": "stream",
          "name": "stdout",
          "text": [
            "1\n",
            "[1, 2, 3]\n",
            "[4, 5, 6, 7]\n",
            "7\n",
            "[7, 6, 5, 4, 3, 2, 1]\n"
          ]
        }
      ]
    },
    {
      "cell_type": "code",
      "source": [
        "# 조건문\n",
        "# 점수를 입력받아 등급을 출력하세요\n",
        "# 등급표 81~100\tA / 61~80\tB / 41~60\tC / 21~40\tD / 0~20\tE\n",
        "\n",
        "score = int(input(\"점수를 입력하세요: \"))\n",
        "\n",
        "if score > 80 and score <= 100:\n",
        "  print(\"점수는 {}점이며 등급은 A등급입니다.\".format(score))\n",
        "elif score >60 and score <=80:\n",
        "  print(\"점수는 {}점이며 등급은 B등급입니다.\".format(score))\n",
        "elif score > 40 and score <=60:\n",
        "  print(\"점수는 {}점이며 등급은 C등급입니다.\".format(score))\n",
        "elif score >20 and score <= 40:\n",
        "  print(\"점수는 {}점이며 등급은 D등급입니다.\".format(score))\n",
        "elif score >=0 and score <= 20:\n",
        "  print(\"점수는 {}점이며 등급은 E등급입니다.\".format(score))\n",
        "else:\n",
        "  print(\"0~100점 사이의 점수를 입력하시오.\")  "
      ],
      "metadata": {
        "colab": {
          "base_uri": "https://localhost:8080/"
        },
        "id": "YxX6NxrNCK5z",
        "outputId": "133c6658-98ee-404e-b16d-a9e5f156937d"
      },
      "execution_count": 3,
      "outputs": [
        {
          "output_type": "stream",
          "name": "stdout",
          "text": [
            "점수를 입력하세요: 99\n",
            "점수는 99점이며 등급은 A등급입니다.\n"
          ]
        }
      ]
    },
    {
      "cell_type": "code",
      "source": [
        "# 함수를 만들고 두 수를 입력받아 연산하세요\n",
        "\n",
        "a = int(input('첫 번째 정수를 입력하세요: '))\n",
        "b = int(input('두 번째 정수를 입력하세요: '))\n",
        "\n",
        "def plus(a,b):  \n",
        "    add = a + b\n",
        "    return add\n",
        "print(\"덧셈 함수 연산: {}\".format(plus(a, b)))\n",
        "\n",
        "def multiply(a,b):\n",
        "    k = a * b\n",
        "    return k\n",
        "print(\"곱셈 함수 연산: {}\".format(multiply(a, b)))\n",
        "\n",
        "def square(a,b):\n",
        "    l = a ** b\n",
        "    return l\n",
        "print(\"제곱 함수 연산: {}\".format(square(a,b)))    \n"
      ],
      "metadata": {
        "colab": {
          "base_uri": "https://localhost:8080/"
        },
        "id": "mD9n7jRG-8qL",
        "outputId": "80541bee-5d96-466b-dcce-b13f12bad4b7"
      },
      "execution_count": 4,
      "outputs": [
        {
          "output_type": "stream",
          "name": "stdout",
          "text": [
            "첫 번째 정수를 입력하세요: 5\n",
            "두 번째 정수를 입력하세요: 7\n",
            "덧셈 함수 연산: 12\n",
            "곱셈 함수 연산: 35\n",
            "제곱 함수 연산: 78125\n"
          ]
        }
      ]
    },
    {
      "cell_type": "code",
      "source": [
        "# 알고리즘 생성\n",
        "# 피보나치 수열을 계산하는 함수를 생성하고 자연수 10을 넣어 실행하세요\n",
        "\n",
        "n = int(input(\"자연수를 입력하시오: \"))\n",
        "\n",
        "def pivo(n):\n",
        "    a = [1]\n",
        "    for i in range(1,n):\n",
        "         if i == 1:\n",
        "           k = a[-1]\n",
        "           a.append(k)\n",
        "         else:\n",
        "            k = a[i-1] + a[i-2] \n",
        "            a.append(k)            \n",
        "    return a[-1]           \n",
        "print(\"피보나치 수열 {}번째 값은 {}이다.\".format(n,pivo(n)))\n"
      ],
      "metadata": {
        "colab": {
          "base_uri": "https://localhost:8080/"
        },
        "id": "OL3QMyusC9V0",
        "outputId": "5fe680c5-f9aa-4b12-abe5-b5aeabcaa5da"
      },
      "execution_count": 5,
      "outputs": [
        {
          "output_type": "stream",
          "name": "stdout",
          "text": [
            "자연수를 입력하시오: 10\n",
            "피보나치 수열 10번째 값은 55이다.\n"
          ]
        }
      ]
    },
    {
      "cell_type": "code",
      "source": [
        "class Human:\n",
        "    def Human_info(self,name,age,sex):\n",
        "        self.name = name\n",
        "        self.age = age\n",
        "        self.sex = sex\n",
        "\n",
        "    def print_info(self):\n",
        "        print(\"이름: \", self.name)\n",
        "        print(\"나이: \", self.age)\n",
        "        print(\"성별: \", self.sex)\n",
        "\n",
        "\n",
        "def set_Human():\n",
        "    name = input(\"이름: \")\n",
        "    age = input(\"나이: \")\n",
        "    sex = input(\"성별: \")    \n",
        "\n",
        "def run():\n",
        "    set_Human()\n",
        "\n",
        "run()\n",
        "        "
      ],
      "metadata": {
        "id": "nYv044w8Ae0Z",
        "colab": {
          "base_uri": "https://localhost:8080/"
        },
        "outputId": "972f2d2b-8f07-4a6a-c1a6-ea595fb01ccf"
      },
      "execution_count": 6,
      "outputs": [
        {
          "name": "stdout",
          "output_type": "stream",
          "text": [
            "이름: 남형우\n",
            "나이: 23\n",
            "성별: 남자\n"
          ]
        }
      ]
    }
  ]
}
{
  "cells": [
    {
      "cell_type": "markdown",
      "metadata": {
        "id": "view-in-github",
        "colab_type": "text"
      },
      "source": [
        "<a href=\"https://colab.research.google.com/github/NHU19/python/blob/main/lesson_09_Loop1_for%2C_while.ipynb\" target=\"_parent\"><img src=\"https://colab.research.google.com/assets/colab-badge.svg\" alt=\"Open In Colab\"/></a>"
      ]
    },
    {
      "cell_type": "markdown",
      "metadata": {
        "id": "XWWKDqVI-rU0"
      },
      "source": [
        "### Loop문\n",
        "    - 특정 코드를 종료시점까지 반복적으로 수행할 수 있는 구문\n",
        "    - for, while, continue, break\n",
        "    - list comprehention\n",
        "    - 머신러닝에서 학습을 시킬 수 있게하는 기본 코드"
      ]
    },
    {
      "cell_type": "markdown",
      "metadata": {
        "id": "bjpod-I--rU2"
      },
      "source": [
        "#### for문 1\n",
        "    - iterable한(반복 가능한) 값을 꺼내와서 변수에 대입시킨 후 갯수만큼 실행\n",
        "```python\n",
        "    for 변수 in 범위:\n",
        "        실행문\n",
        "```\n",
        "    - 범위(range)를 정하여 반복 횟수를 지정하고 지정한 횟수가 되면 loop문을 종료"
      ]
    },
    {
      "cell_type": "code",
      "execution_count": 7,
      "metadata": {
        "id": "Cwf2VDWV-rU2",
        "colab": {
          "base_uri": "https://localhost:8080/"
        },
        "outputId": "46809184-be52-402c-b965-7edce6d5d86c"
      },
      "outputs": [
        {
          "output_type": "stream",
          "name": "stdout",
          "text": [
            "0\n",
            "1\n",
            "2\n",
            "3\n",
            "4\n",
            "5\n",
            "6\n",
            "7\n",
            "8\n",
            "9\n"
          ]
        }
      ],
      "source": [
        "for i in range(10):\n",
        "    print(i)"
      ]
    },
    {
      "cell_type": "code",
      "execution_count": null,
      "metadata": {
        "id": "huhPewpE-rU3"
      },
      "outputs": [],
      "source": [
        "# 구구단\n",
        "for k in range(1, 10):\n",
        "    for i in range(1, 10):\n",
        "        print(f\"{k} x {i} = {k*i}\")"
      ]
    },
    {
      "cell_type": "code",
      "execution_count": 9,
      "metadata": {
        "id": "svjR0qxR-rU4",
        "colab": {
          "base_uri": "https://localhost:8080/"
        },
        "outputId": "a0940b26-992e-4a2b-c9a7-b60dbd7740eb"
      },
      "outputs": [
        {
          "output_type": "stream",
          "name": "stdout",
          "text": [
            "H\n",
            "e\n",
            "l\n",
            "l\n",
            "o\n",
            ",\n",
            " \n",
            "P\n",
            "y\n",
            "t\n",
            "h\n",
            "o\n",
            "n\n"
          ]
        }
      ],
      "source": [
        "text = \"Hello, Python\"\n",
        "for t in text:\n",
        "    print(t)"
      ]
    },
    {
      "cell_type": "code",
      "execution_count": 10,
      "metadata": {
        "id": "s83h0xpm-rU4",
        "colab": {
          "base_uri": "https://localhost:8080/"
        },
        "outputId": "75a08988-42f5-4227-fae5-6e20042b7532"
      },
      "outputs": [
        {
          "output_type": "stream",
          "name": "stdout",
          "text": [
            "game AI\n",
            "classification\n",
            "clustering\n"
          ]
        }
      ],
      "source": [
        "dic_t = {'Reinforcement learning': 'game AI',\n",
        "         'Supervised learning': 'classification',\n",
        "         'Unsupervised learning': 'clustering'\n",
        "        }\n",
        "\"\"\"\n",
        "print(type(dic_t.values())) # list type 이 아님. dic type임.\n",
        "print(dic_t.values())\n",
        "list(dic_t.values()) # 형변환을 해줘야 list type\n",
        "\"\"\"\n",
        "for val in dic_t.values():\n",
        "    print(val)"
      ]
    },
    {
      "cell_type": "markdown",
      "source": [
        "2개 이상의 변수 받기"
      ],
      "metadata": {
        "id": "HkUuxPBrLO8w"
      }
    },
    {
      "cell_type": "code",
      "execution_count": 11,
      "metadata": {
        "id": "RBmQABbq-rU4",
        "colab": {
          "base_uri": "https://localhost:8080/"
        },
        "outputId": "8aa2215a-ccd2-457f-94d7-a375928b9a2c"
      },
      "outputs": [
        {
          "output_type": "stream",
          "name": "stdout",
          "text": [
            "Reinforcement learning : game AI\n",
            "Supervised learning : classification\n",
            "Unsupervised learning : clustering\n"
          ]
        }
      ],
      "source": [
        "for k, v in dic_t.items():\n",
        "    print(f\"{k} : {v}\")"
      ]
    },
    {
      "cell_type": "code",
      "source": [
        "ls1 = dic_t.keys()\n",
        "ls2 = dic_t.values()\n",
        "\n",
        "for k, v in zip(ls1, ls2):\n",
        "    print(f\"{k} : {v}\")"
      ],
      "metadata": {
        "colab": {
          "base_uri": "https://localhost:8080/"
        },
        "id": "5Y91MpZwLZ-E",
        "outputId": "d052ec49-e2e7-42ed-8049-8f51a1cc078c"
      },
      "execution_count": 12,
      "outputs": [
        {
          "output_type": "stream",
          "name": "stdout",
          "text": [
            "Reinforcement learning : game AI\n",
            "Supervised learning : classification\n",
            "Unsupervised learning : clustering\n"
          ]
        }
      ]
    },
    {
      "cell_type": "markdown",
      "metadata": {
        "id": "bWv5oX7O-rU5"
      },
      "source": [
        "#### for문 quiz"
      ]
    },
    {
      "cell_type": "code",
      "execution_count": null,
      "metadata": {
        "colab": {
          "base_uri": "https://localhost:8080/"
        },
        "id": "Fwd4s9Mf-rU6",
        "outputId": "6b15626a-a728-4244-e51c-ef2dfe73e132"
      },
      "outputs": [
        {
          "output_type": "stream",
          "name": "stdout",
          "text": [
            "첫번째 숫자 입력: 16\n",
            "두번째 숫자 입력: 24\n",
            "최대공약수: 8\n"
          ]
        }
      ],
      "source": [
        "a = int(input(\"첫번째 숫자 입력: \"))\n",
        "b = int(input(\"두번째 숫자 입력: \"))\n",
        "\n",
        "for cd in range(max(a,b), 1, -1):\n",
        "    if a % cd == 0 and b % cd == 0:\n",
        "        print(f\"최대공약수: {cd}\")\n",
        "        break\n",
        "    else:\n",
        "        continue\n",
        "     "
      ]
    },
    {
      "cell_type": "markdown",
      "metadata": {
        "id": "vDBqRZfe-rU6"
      },
      "source": [
        "### Quiz\n",
        "    list안의 list의 데이터를 꺼내서 출력해보기\n",
        "\n",
        "    index를 이용해서 출력해보기\n",
        "    for, if, elif, else\n",
        "        VIP이상은 발렛파킹\n",
        "        platinum은 우대주차장\n",
        "        Family 지하 12층"
      ]
    },
    {
      "cell_type": "code",
      "execution_count": null,
      "metadata": {
        "colab": {
          "base_uri": "https://localhost:8080/"
        },
        "id": "C-IAsWyo-rU6",
        "outputId": "b118ecb4-1531-4364-c95e-7df8d368fa96"
      },
      "outputs": [
        {
          "output_type": "stream",
          "name": "stdout",
          "text": [
            "VVIP 등급입니다.\n",
            "발렛파킹이 가능합니다\n",
            "VIP 등급입니다.\n",
            "발렛파킹이 가능합니다\n",
            "Platinum 등급입니다.\n",
            "우대주차장에 주차가 가능합니다\n",
            "Family 등급입니다.\n",
            "지하 12층으로 가세요\n"
          ]
        }
      ],
      "source": [
        "member = [['VVIP',50_000], ['VIP',30_000],['Platinum', 20_000],['Family', 10_000]]\n"
      ]
    },
    {
      "cell_type": "markdown",
      "metadata": {
        "id": "AbrfDtex-rU7"
      },
      "source": [
        "#### while 문\n",
        "```python\n",
        "while 조건문: # 조건문이 False가 될 때까지 반복\n",
        "    실행문\n",
        "```"
      ]
    },
    {
      "cell_type": "code",
      "execution_count": 30,
      "metadata": {
        "id": "71oX5-kZ-rU7",
        "colab": {
          "base_uri": "https://localhost:8080/"
        },
        "outputId": "159396a5-8166-48af-9c39-faa2959c83b8"
      },
      "outputs": [
        {
          "output_type": "stream",
          "name": "stdout",
          "text": [
            "0\n",
            "1\n",
            "2\n",
            "3\n",
            "4\n",
            "5\n",
            "6\n",
            "7\n",
            "8\n",
            "9\n"
          ]
        }
      ],
      "source": [
        "q = 0\n",
        "while q < 10: # 조건문 False가 될 때 까지 반복\n",
        "    print(q)\n",
        "    q += 1 "
      ]
    },
    {
      "cell_type": "code",
      "source": [
        "# while 작성시 유의사항 : 탈출 조건을 잘 생성해야함\n",
        "# 조건문 False, 실행문내 break 실행 조건"
      ],
      "metadata": {
        "id": "NOVpzHYkB6x7"
      },
      "execution_count": null,
      "outputs": []
    },
    {
      "cell_type": "markdown",
      "metadata": {
        "id": "xYPU9xlR-rU7"
      },
      "source": [
        "#### while문 quiz\n",
        "    while문을 이용하여 코드를 만들어보기"
      ]
    },
    {
      "cell_type": "code",
      "execution_count": 38,
      "metadata": {
        "colab": {
          "base_uri": "https://localhost:8080/"
        },
        "id": "7CFGAp7Q-rU7",
        "outputId": "ac49cf9b-46ba-45cc-88ec-181178156116"
      },
      "outputs": [
        {
          "output_type": "stream",
          "name": "stdout",
          "text": [
            "10!: 3628800\n"
          ]
        }
      ],
      "source": [
        "# factorial 계산 해보기\n",
        "i = 1\n",
        "factorial = 1\n",
        "\n",
        "while i < 11:\n",
        "    factorial *= i\n",
        "    i += 1\n",
        "print(f\"10!: {factorial}\")"
      ]
    },
    {
      "cell_type": "code",
      "execution_count": 39,
      "metadata": {
        "colab": {
          "base_uri": "https://localhost:8080/"
        },
        "id": "pkY9VcyK-rU8",
        "outputId": "7bc62d60-34bb-4155-f53c-ba75f45112bc"
      },
      "outputs": [
        {
          "output_type": "stream",
          "name": "stdout",
          "text": [
            "1683\n"
          ]
        }
      ],
      "source": [
        "# 배수의 합 계산 프로그램 만들기\n",
        "# 1부터 100사이의 모든 3의 배수의 합을 계산하여 출력해보자\n",
        "i = 1\n",
        "sum = 0\n",
        "while i < 101:\n",
        "    if i % 3==0:\n",
        "        sum += i\n",
        "        i += 1\n",
        "    else:\n",
        "        i += 1    \n",
        "print(sum)        "
      ]
    },
    {
      "cell_type": "code",
      "execution_count": 15,
      "metadata": {
        "id": "G9B_Z1Xh-rU8",
        "outputId": "d802bba2-eab6-4060-8e25-b7e98ac7222f",
        "colab": {
          "base_uri": "https://localhost:8080/"
        }
      },
      "outputs": [
        {
          "output_type": "stream",
          "name": "stdout",
          "text": [
            "각 자리 수의 합은 10 입니다.\n"
          ]
        }
      ],
      "source": [
        "# 정수 안의 각 자리 수의 합을 계산해보자\n",
        "# 예를 들어 1234 라면 1+2+3+4를 계산해야 한다.\n",
        "\n",
        "number = 1234\n",
        "\n",
        "# sum(map(int, str(number))) //map을이용\n",
        "\n",
        "sum = 0\n",
        "while number > 0:\n",
        "    digit = number % 10\n",
        "    sum += digit\n",
        "    number //= 10\n",
        "\n",
        "print('각 자리 수의 합은 %s 입니다.' %(sum)) "
      ]
    },
    {
      "cell_type": "markdown",
      "metadata": {
        "id": "JMwRiVCz-rU8"
      },
      "source": [
        "#### while문의 무한루프\n",
        "  - 무한 반복을 막기 위해 탈출문자를 사용한다.\n",
        "  "
      ]
    },
    {
      "cell_type": "code",
      "execution_count": 16,
      "metadata": {
        "id": "nIgav6Vj-rU8",
        "colab": {
          "base_uri": "https://localhost:8080/"
        },
        "outputId": "c0d091e7-41fa-4787-c6dd-6773f2043764"
      },
      "outputs": [
        {
          "output_type": "stream",
          "name": "stdout",
          "text": [
            "1\n",
            "2\n",
            "3\n",
            "4\n",
            "5\n",
            "6\n",
            "7\n",
            "8\n",
            "9\n",
            "10\n",
            "break\n"
          ]
        }
      ],
      "source": [
        "res = 1\n",
        "while res:\n",
        "    print(res)\n",
        "    res += 1\n",
        "    if res > 10:\n",
        "        print(\"break\")\n",
        "        break"
      ]
    },
    {
      "cell_type": "markdown",
      "metadata": {
        "id": "po286VL1-rU9"
      },
      "source": [
        "### Quiz\n",
        "    로또 번호 생성기\n",
        "\n",
        "    1~45까지 숫자를 중복없이 6개를 추출해서 한 리스트에 담기\n",
        "    random 모듈을 이용해서 작성\n",
        "    무한루프로 돌리되 break를 이용하여 탈출할 수 있게 작성\n",
        "    멤버 연산 in, not in"
      ]
    },
    {
      "cell_type": "code",
      "source": [
        "import random\n",
        "\n",
        "lot = []\n",
        "one = []\n",
        "while True:\n",
        "    num = random.randint(1, 45)\n",
        "    if num not in one:\n",
        "        one.append(num)\n",
        "    one.sort() # sort: 오름차순 정렬\n",
        "\n",
        "    if len(one) == 6:\n",
        "        lot.append(one)\n",
        "        one = [] # 1게임 초기화\n",
        "\n",
        "    if len(lot) == 5:\n",
        "        break\n",
        "lot"
      ],
      "metadata": {
        "id": "eVAf4wmTEHBQ",
        "colab": {
          "base_uri": "https://localhost:8080/"
        },
        "outputId": "854b8bb9-1167-4163-e36f-572d0a13fa84"
      },
      "execution_count": 17,
      "outputs": [
        {
          "output_type": "execute_result",
          "data": {
            "text/plain": [
              "[[3, 7, 10, 12, 13, 28],\n",
              " [5, 7, 23, 26, 33, 38],\n",
              " [3, 9, 25, 26, 34, 35],\n",
              " [1, 2, 4, 13, 28, 29],\n",
              " [6, 14, 18, 19, 32, 40]]"
            ]
          },
          "metadata": {},
          "execution_count": 17
        }
      ]
    }
  ],
  "metadata": {
    "hide_input": false,
    "kernelspec": {
      "display_name": "Python 3",
      "language": "python",
      "name": "python3"
    },
    "language_info": {
      "codemirror_mode": {
        "name": "ipython",
        "version": 3
      },
      "file_extension": ".py",
      "mimetype": "text/x-python",
      "name": "python",
      "nbconvert_exporter": "python",
      "pygments_lexer": "ipython3",
      "version": "3.8.5"
    },
    "toc": {
      "base_numbering": 1,
      "nav_menu": {},
      "number_sections": true,
      "sideBar": true,
      "skip_h1_title": false,
      "title_cell": "Table of Contents",
      "title_sidebar": "Contents",
      "toc_cell": false,
      "toc_position": {},
      "toc_section_display": true,
      "toc_window_display": false
    },
    "varInspector": {
      "cols": {
        "lenName": 16,
        "lenType": 16,
        "lenVar": 40
      },
      "kernels_config": {
        "python": {
          "delete_cmd_postfix": "",
          "delete_cmd_prefix": "del ",
          "library": "var_list.py",
          "varRefreshCmd": "print(var_dic_list())"
        },
        "r": {
          "delete_cmd_postfix": ") ",
          "delete_cmd_prefix": "rm(",
          "library": "var_list.r",
          "varRefreshCmd": "cat(var_dic_list()) "
        }
      },
      "types_to_exclude": [
        "module",
        "function",
        "builtin_function_or_method",
        "instance",
        "_Feature"
      ],
      "window_display": false
    },
    "colab": {
      "name": "lesson 09. Loop1 - for, while.ipynb",
      "provenance": [],
      "collapsed_sections": [],
      "include_colab_link": true
    }
  },
  "nbformat": 4,
  "nbformat_minor": 0
}
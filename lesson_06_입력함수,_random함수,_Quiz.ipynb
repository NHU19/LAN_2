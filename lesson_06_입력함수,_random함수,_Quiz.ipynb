{
  "cells": [
    {
      "cell_type": "markdown",
      "metadata": {
        "id": "view-in-github",
        "colab_type": "text"
      },
      "source": [
        "<a href=\"https://colab.research.google.com/github/NHU19/python/blob/main/lesson_06_%EC%9E%85%EB%A0%A5%ED%95%A8%EC%88%98%2C_random%ED%95%A8%EC%88%98%2C_Quiz.ipynb\" target=\"_parent\"><img src=\"https://colab.research.google.com/assets/colab-badge.svg\" alt=\"Open In Colab\"/></a>"
      ]
    },
    {
      "cell_type": "markdown",
      "metadata": {
        "id": "27sswvQNnoN5"
      },
      "source": [
        "#### 입력함수"
      ]
    },
    {
      "cell_type": "code",
      "execution_count": 1,
      "metadata": {
        "ExecuteTime": {
          "end_time": "2021-01-13T07:52:30.893622Z",
          "start_time": "2021-01-13T07:52:28.216480Z"
        },
        "id": "ooeXmH3mnoN9",
        "colab": {
          "base_uri": "https://localhost:8080/",
          "height": 53
        },
        "outputId": "fe6abbcc-7f6b-4051-dc31-1eb244755aff"
      },
      "outputs": [
        {
          "name": "stdout",
          "output_type": "stream",
          "text": [
            "문장을 입력하세요: Hello\n"
          ]
        },
        {
          "output_type": "execute_result",
          "data": {
            "text/plain": [
              "'Hello'"
            ],
            "application/vnd.google.colaboratory.intrinsic+json": {
              "type": "string"
            }
          },
          "metadata": {},
          "execution_count": 1
        }
      ],
      "source": [
        "text = input(\"문장을 입력하세요: \") # string\n",
        "text"
      ]
    },
    {
      "cell_type": "code",
      "source": [
        "number = int(input(\"숫자를 입력하시오: \"))\n",
        "number, type(number)"
      ],
      "metadata": {
        "colab": {
          "base_uri": "https://localhost:8080/"
        },
        "id": "ZFhZ9xXWLf8e",
        "outputId": "ee53b522-51f2-4548-cf3f-20bcdeef9ad2"
      },
      "execution_count": 4,
      "outputs": [
        {
          "name": "stdout",
          "output_type": "stream",
          "text": [
            "숫자를 입력하시오: 100\n"
          ]
        },
        {
          "output_type": "execute_result",
          "data": {
            "text/plain": [
              "(100, int)"
            ]
          },
          "metadata": {},
          "execution_count": 4
        }
      ]
    },
    {
      "cell_type": "markdown",
      "metadata": {
        "id": "GSqrJLDpnoN_"
      },
      "source": [
        "#### random 모듈\n",
        "    import random : random이라는 이름의 모듈 안의 함수들을 사용하겠다고 선언"
      ]
    },
    {
      "cell_type": "code",
      "execution_count": 8,
      "metadata": {
        "ExecuteTime": {
          "end_time": "2021-01-13T08:01:29.161740Z",
          "start_time": "2021-01-13T08:01:29.144794Z"
        },
        "colab": {
          "base_uri": "https://localhost:8080/"
        },
        "id": "uvpbALXCnoN_",
        "outputId": "e9ce43e1-d8f5-46e5-cf6f-eb95f3f12eb5"
      },
      "outputs": [
        {
          "output_type": "execute_result",
          "data": {
            "text/plain": [
              "2"
            ]
          },
          "metadata": {},
          "execution_count": 8
        }
      ],
      "source": [
        "# !pip install random\n",
        "import random\n",
        "random.randint(0,10)"
      ]
    },
    {
      "cell_type": "code",
      "execution_count": 11,
      "metadata": {
        "ExecuteTime": {
          "end_time": "2021-01-13T08:06:26.666689Z",
          "start_time": "2021-01-13T08:06:08.752772Z"
        },
        "id": "3Iul-nu3noOA",
        "outputId": "c23140e2-4301-4103-f4d0-6d8d7d3bcd3d",
        "colab": {
          "base_uri": "https://localhost:8080/"
        }
      },
      "outputs": [
        {
          "output_type": "stream",
          "name": "stdout",
          "text": [
            "아차찹쌀떡~\n"
          ]
        }
      ],
      "source": [
        "brand_new_words = [\n",
        "    \"홀리몰리과카몰리\",\n",
        "    \"전래전래전래동화\",\n",
        "    \"개펀리펀\",\n",
        "    \"킹받뜨라쉬\",\n",
        "    \"아차찹쌀떡~\"\n",
        "]\n",
        "\n",
        "import random\n",
        "idx = random.randint(0, len(brand_new_words)-1)\n",
        "print(brand_new_words[idx])"
      ]
    },
    {
      "cell_type": "code",
      "source": [
        "brand_new_words = [\n",
        "    \"홀리몰리과카몰리\",\n",
        "    \"전래전래전래동화\",\n",
        "    \"개펀리펀\",\n",
        "    \"킹받뜨라쉬\",\n",
        "    \"아차찹쌀떡~\"\n",
        "]\n",
        "\n",
        "import random\n",
        "ques = int(input(\"index를 입력하시오: \"))\n",
        "print(brand_new_words[ques])"
      ],
      "metadata": {
        "colab": {
          "base_uri": "https://localhost:8080/"
        },
        "id": "ZrW1s1DgNGjT",
        "outputId": "7789fe60-c522-4bc2-aa68-3427665c74cf"
      },
      "execution_count": 15,
      "outputs": [
        {
          "output_type": "stream",
          "name": "stdout",
          "text": [
            "index를 입력하시오: 3\n",
            "킹받뜨라쉬\n"
          ]
        }
      ]
    },
    {
      "cell_type": "code",
      "execution_count": 18,
      "metadata": {
        "ExecuteTime": {
          "end_time": "2021-01-14T01:20:32.313051Z",
          "start_time": "2021-01-14T01:20:32.292081Z"
        },
        "id": "gVxFGLJYnoOA",
        "outputId": "4cc0ace5-c6a6-4942-ded6-d05322240d4a",
        "colab": {
          "base_uri": "https://localhost:8080/",
          "height": 35
        }
      },
      "outputs": [
        {
          "output_type": "execute_result",
          "data": {
            "text/plain": [
              "'오'"
            ],
            "application/vnd.google.colaboratory.intrinsic+json": {
              "type": "string"
            }
          },
          "metadata": {},
          "execution_count": 18
        }
      ],
      "source": [
        "import random\n",
        "ls = ['일', '이', '삼', '사', '오']\n",
        "random.choice(ls)"
      ]
    },
    {
      "cell_type": "markdown",
      "metadata": {
        "id": "9piVSI_4noOB"
      },
      "source": [
        "#### format 함수\n",
        "    변수의 데이터를 문자형으로 변환하여 출력할 수 있는 방법"
      ]
    },
    {
      "cell_type": "code",
      "execution_count": 26,
      "metadata": {
        "ExecuteTime": {
          "end_time": "2021-01-14T01:22:59.228884Z",
          "start_time": "2021-01-14T01:22:59.222900Z"
        },
        "id": "Uyq4Nyv1noOB",
        "colab": {
          "base_uri": "https://localhost:8080/"
        },
        "outputId": "701452b3-d624-474b-8162-b9ec0ddde436"
      },
      "outputs": [
        {
          "output_type": "stream",
          "name": "stdout",
          "text": [
            "인출: 30000, 잔액: 70000\n",
            "인출: 30000, 잔액: 70000\n",
            "인출: 30000, 잔액: 70000\n"
          ]
        }
      ],
      "source": [
        "account = 100_000\n",
        "draw = 30_000\n",
        "account -= draw\n",
        "\n",
        "print(\"인출: %s, 잔액: %s\" %(draw, account))\n",
        "print(\"인출: {}, 잔액: {}\".format(draw, account))\n",
        "print(f\"인출: {draw}, 잔액: {account}\")"
      ]
    },
    {
      "cell_type": "markdown",
      "metadata": {
        "id": "e4UtrxynnoOC"
      },
      "source": [
        "### Quiz\n",
        "    저녁먹고 남은돈, 랜덤으로 메뉴선택(금액을 입력), 차액에 따라 다음날 점심을 먹을 수 있다 없다를 출력\n",
        "    6000 이상 식사 가능,"
      ]
    },
    {
      "cell_type": "code",
      "execution_count": 28,
      "metadata": {
        "colab": {
          "base_uri": "https://localhost:8080/"
        },
        "id": "v8bnIFRunoOD",
        "outputId": "08d85055-617b-40e6-e029-2fe765e41bf1"
      },
      "outputs": [
        {
          "output_type": "stream",
          "name": "stdout",
          "text": [
            "금액을 입력하세요: 20000\n",
            "저녁 식대는 15000원\n",
            "남은 돈이 5000원이니, 점심은 거르고 저녁에 국밥 한 그릇 먹어야겠구나\n"
          ]
        }
      ],
      "source": [
        "wallet = int(input(\"금액을 입력하세요: \"))\n",
        "\n",
        "menu = [15000, 8000, 4500]\n",
        "import random\n",
        "dinner = random.choice(menu)\n",
        "\n",
        "if wallet >= dinner:\n",
        "    wallet -= dinner\n",
        "    if wallet >= 6000:\n",
        "        print(\"저녁 식대는 {}원\".format(dinner))\n",
        "        print(\"남은 돈이 {}원이니, 저녁도 가능하고 점심은 든든한 국밥이지\".format(wallet))\n",
        "    else:\n",
        "       print(\"저녁 식대는 {}원\".format(dinner))\n",
        "       print(\"남은 돈이 {}원이니, 점심은 거르고 저녁에 국밥 한 그릇 먹어야겠구나\".format(wallet))\n",
        "else:\n",
        "    if wallet >= 6000:\n",
        "        print(\"저녁 식대는 {}원\".format(dinner))\n",
        "        print(\"남은 돈이 {}원이니, 저녁은 못 먹어도 점심에 국밥 한 그릇은 가능하겠구나\".format(wallet))\n",
        "    else:\n",
        "        print(\"남은 돈이 {}원이라니...\".format(dinner))\n",
        "       "
      ]
    }
  ],
  "metadata": {
    "hide_input": false,
    "kernelspec": {
      "display_name": "Python 3",
      "language": "python",
      "name": "python3"
    },
    "language_info": {
      "codemirror_mode": {
        "name": "ipython",
        "version": 3
      },
      "file_extension": ".py",
      "mimetype": "text/x-python",
      "name": "python",
      "nbconvert_exporter": "python",
      "pygments_lexer": "ipython3",
      "version": "3.8.5"
    },
    "toc": {
      "base_numbering": 1,
      "nav_menu": {},
      "number_sections": true,
      "sideBar": true,
      "skip_h1_title": false,
      "title_cell": "Table of Contents",
      "title_sidebar": "Contents",
      "toc_cell": false,
      "toc_position": {},
      "toc_section_display": true,
      "toc_window_display": false
    },
    "varInspector": {
      "cols": {
        "lenName": 16,
        "lenType": 16,
        "lenVar": 40
      },
      "kernels_config": {
        "python": {
          "delete_cmd_postfix": "",
          "delete_cmd_prefix": "del ",
          "library": "var_list.py",
          "varRefreshCmd": "print(var_dic_list())"
        },
        "r": {
          "delete_cmd_postfix": ") ",
          "delete_cmd_prefix": "rm(",
          "library": "var_list.r",
          "varRefreshCmd": "cat(var_dic_list()) "
        }
      },
      "types_to_exclude": [
        "module",
        "function",
        "builtin_function_or_method",
        "instance",
        "_Feature"
      ],
      "window_display": false
    },
    "colab": {
      "name": "lesson 06. 입력함수, random함수, Quiz.ipynb",
      "provenance": [],
      "collapsed_sections": [],
      "include_colab_link": true
    }
  },
  "nbformat": 4,
  "nbformat_minor": 0
}